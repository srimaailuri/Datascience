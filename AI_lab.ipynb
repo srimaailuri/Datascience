{
  "nbformat": 4,
  "nbformat_minor": 0,
  "metadata": {
    "colab": {
      "provenance": [],
      "authorship_tag": "ABX9TyPhezwioI2mBlAkrLGGu3Tz",
      "include_colab_link": true
    },
    "kernelspec": {
      "name": "python3",
      "display_name": "Python 3"
    },
    "language_info": {
      "name": "python"
    }
  },
  "cells": [
    {
      "cell_type": "markdown",
      "metadata": {
        "id": "view-in-github",
        "colab_type": "text"
      },
      "source": [
        "<a href=\"https://colab.research.google.com/github/srimaailuri/Datascience/blob/main/AI_lab.ipynb\" target=\"_parent\"><img src=\"https://colab.research.google.com/assets/colab-badge.svg\" alt=\"Open In Colab\"/></a>"
      ]
    },
    {
      "cell_type": "markdown",
      "source": [
        "lab-1 knapsack problem"
      ],
      "metadata": {
        "id": "38wYnQxWH2Vm"
      }
    },
    {
      "cell_type": "code",
      "execution_count": 4,
      "metadata": {
        "colab": {
          "base_uri": "https://localhost:8080/"
        },
        "id": "WGK0merX-mfA",
        "outputId": "0050f681-1c84-42f5-899f-a708407640c9"
      },
      "outputs": [
        {
          "output_type": "stream",
          "name": "stdout",
          "text": [
            "220\n"
          ]
        }
      ],
      "source": [
        "\n",
        "def knapSack(W, wt, val, n):\n",
        "\tif n == 0 or W == 0:\n",
        "\t\treturn 0\n",
        "\tif (wt[n-1] > W):\n",
        "\t\treturn knapSack(W, wt, val, n-1)\n",
        "\telse:\n",
        "\t\treturn max(val[n-1] + knapSack(W-wt[n-1], wt, val, n-1),knapSack(W, wt, val, n-1))\n",
        "  \n",
        "val = [60, 100, 120]\n",
        "wt = [10, 20, 30]\n",
        "W = 50\n",
        "n = len(val)\n",
        "print(knapSack(W, wt, val, n))\n",
        "\n"
      ]
    },
    {
      "cell_type": "markdown",
      "source": [
        "lab-2 local search problem"
      ],
      "metadata": {
        "id": "jEXYxnVKIPoD"
      }
    },
    {
      "cell_type": "code",
      "source": [
        "graph = {\n",
        "  '5' : ['3','7'],\n",
        "  '3' : ['2', '4'],\n",
        "  '7' : ['8'],\n",
        "  '2' : [],\n",
        "  '4' : ['8'],\n",
        "  '8' : []\n",
        "}\n",
        "\n",
        "visited = set() \n",
        "\n",
        "def dfs(visited, graph, node): \n",
        "    if node not in visited:\n",
        "        print (node)\n",
        "        visited.add(node)\n",
        "        for neighbour in graph[node]:\n",
        "            dfs(visited, graph, neighbour)\n",
        "\n",
        "\n",
        "print(\"Following is the Depth-First Search\")\n",
        "dfs(visited, graph, '5')"
      ],
      "metadata": {
        "colab": {
          "base_uri": "https://localhost:8080/"
        },
        "id": "PF9hVB5pBW5s",
        "outputId": "9a6f0638-aa93-4223-8776-cc58347441de"
      },
      "execution_count": 6,
      "outputs": [
        {
          "output_type": "stream",
          "name": "stdout",
          "text": [
            "Following is the Depth-First Search\n",
            "5\n",
            "3\n",
            "2\n",
            "4\n",
            "8\n",
            "7\n"
          ]
        }
      ]
    },
    {
      "cell_type": "markdown",
      "source": [
        "lab-3 peak of the elements"
      ],
      "metadata": {
        "id": "TdftuwzQIU_b"
      }
    },
    {
      "cell_type": "code",
      "source": [
        "def findPeak(arr, n) :\n",
        " \n",
        "    \n",
        "    if (n == 1) :\n",
        "      return 0\n",
        "    if (arr[0] >= arr[1]) :\n",
        "        return 0\n",
        "    if (arr[n - 1] >= arr[n - 2]) :\n",
        "        return n - 1\n",
        "  \n",
        "    \n",
        "    for i in range(1, n - 1) :\n",
        "      if (arr[i] >= arr[i - 1] and arr[i] >= arr[i + 1]) :\n",
        "            return i\n",
        "             \n",
        "\n",
        "arr = [ 1, 3, 20, 4, 1, 0 ]\n",
        "n = len(arr)\n",
        "print(\"Index of a peak point is\", findPeak(arr, n))"
      ],
      "metadata": {
        "colab": {
          "base_uri": "https://localhost:8080/"
        },
        "id": "4ZIWkKEEGfNa",
        "outputId": "b72f008b-1be1-4850-a6d9-77a9e375e5cd"
      },
      "execution_count": 17,
      "outputs": [
        {
          "output_type": "stream",
          "name": "stdout",
          "text": [
            "Index of a peak point is 2\n"
          ]
        }
      ]
    }
  ]
}